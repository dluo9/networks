{
 "metadata": {
  "language_info": {
   "codemirror_mode": {
    "name": "ipython",
    "version": 3
   },
   "file_extension": ".py",
   "mimetype": "text/x-python",
   "name": "python",
   "nbconvert_exporter": "python",
   "pygments_lexer": "ipython3",
   "version": "3.7.9-final"
  },
  "orig_nbformat": 2,
  "kernelspec": {
   "name": "python3",
   "display_name": "Python 3"
  }
 },
 "nbformat": 4,
 "nbformat_minor": 2,
 "cells": [
  {
   "cell_type": "code",
   "execution_count": 28,
   "metadata": {},
   "outputs": [],
   "source": [
    "import networkx as nx\n",
    "from collections import defaultdict"
   ]
  },
  {
   "cell_type": "code",
   "execution_count": 15,
   "metadata": {},
   "outputs": [],
   "source": [
    "# had to alter .mtx dataset file downloaded from \n",
    "# http://networkrepository.com/socfb-Caltech36.php\n",
    "# by removing first two lines, which are:\n",
    "# %MatrixMarket matrix coordinate pattern symmetric \n",
    "# 769 769 16656\n",
    "G = nx.read_adjlist(\"socfb-Caltech36.mtx\")"
   ]
  },
  {
   "cell_type": "code",
   "execution_count": 16,
   "metadata": {},
   "outputs": [
    {
     "output_type": "execute_result",
     "data": {
      "text/plain": [
       "(769, 16656)"
      ]
     },
     "metadata": {},
     "execution_count": 16
    }
   ],
   "source": [
    "nx.number_of_nodes(G), nx.number_of_edges(G)"
   ]
  },
  {
   "cell_type": "code",
   "execution_count": 29,
   "metadata": {},
   "outputs": [],
   "source": [
    "core_numbers = nx.core_number(G)\n",
    "\n",
    "core_vertices = defaultdict(list)\n",
    "for k, v in core_numbers.items():\n",
    "    core_vertices[v].append(k)"
   ]
  },
  {
   "cell_type": "code",
   "execution_count": 35,
   "metadata": {},
   "outputs": [
    {
     "output_type": "stream",
     "name": "stdout",
     "text": [
      "271 vertices in the 35th core\n39 vertices in the 34th core\n23 vertices in the 32th core\n11 vertices in the 20th core\n17 vertices in the 30th core\n24 vertices in the 31th core\n13 vertices in the 28th core\n13 vertices in the 23th core\n16 vertices in the 33th core\n6 vertices in the 19th core\n26 vertices in the 27th core\n14 vertices in the 29th core\n19 vertices in the 9th core\n9 vertices in the 7th core\n19 vertices in the 13th core\n13 vertices in the 8th core\n11 vertices in the 21th core\n13 vertices in the 25th core\n10 vertices in the 4th core\n10 vertices in the 10th core\n10 vertices in the 12th core\n15 vertices in the 3th core\n7 vertices in the 24th core\n15 vertices in the 15th core\n7 vertices in the 26th core\n10 vertices in the 14th core\n35 vertices in the 2th core\n8 vertices in the 22th core\n8 vertices in the 11th core\n35 vertices in the 1th core\n10 vertices in the 16th core\n3 vertices in the 17th core\n6 vertices in the 18th core\n19 vertices in the 5th core\n4 vertices in the 6th core\n"
     ]
    }
   ],
   "source": [
    "for k in core_vertices.keys():\n",
    "    print(\"{} vertices in the {}th core\".format(len(core_vertices[k]), k))"
   ]
  },
  {
   "cell_type": "code",
   "execution_count": null,
   "metadata": {},
   "outputs": [],
   "source": []
  }
 ]
}